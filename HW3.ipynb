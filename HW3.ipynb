{
 "cells": [
  {
   "cell_type": "markdown",
   "id": "477fb2c1",
   "metadata": {},
   "source": [
    "1. Write a Pandas program to join the two given dataframes along rows and assign all data.\n",
    "Test Data:\n",
    "\n",
    "student_data1:\n",
    "\n",
    "  student_id              name  marks\n",
    "\n",
    "0         S1  Danniella Fenton    200\n",
    "\n",
    "1         S2      Ryder Storey    210\n",
    "\n",
    "2         S3      Bryce Jensen    190\n",
    "\n",
    "3         S4         Ed Bernal    222\n",
    "\n",
    "4         S5       Kwame Morin    199\n",
    "\n",
    "\n",
    "\n",
    "student_data2:\n",
    "\n",
    "  student_id              name  marks\n",
    "\n",
    "0         S4  Scarlette Fisher    201\n",
    "\n",
    "1         S5  Carla Williamson    200\n",
    "\n",
    "2         S6       Dante Morse    198\n",
    "\n",
    "3         S7    Kaiser William    219\n",
    "\n",
    "4         S8   Madeeha Preston    201"
   ]
  },
  {
   "cell_type": "code",
   "execution_count": 1,
   "id": "581891e3",
   "metadata": {},
   "outputs": [],
   "source": [
    "import pandas as pd"
   ]
  },
  {
   "cell_type": "code",
   "execution_count": 2,
   "id": "9f194652",
   "metadata": {},
   "outputs": [
    {
     "name": "stdout",
     "output_type": "stream",
     "text": [
      "  student_id              name  marks\n",
      "0         S1  Danniella Fenton    200\n",
      "1         S2      Ryder Storey    210\n",
      "2         S3      Bryce Jensen    190\n",
      "3         S4         Ed Bernal    222\n",
      "4         S5       Kwame Morin    199\n",
      "5         S4  Scarlette Fisher    201\n",
      "6         S5  Carla Williamson    200\n",
      "7         S6       Dante Morse    198\n",
      "8         S7    Kaiser William    219\n",
      "9         S8   Madeeha Preston    201\n"
     ]
    }
   ],
   "source": [
    "# Define dfs\n",
    "student_data1 = pd.DataFrame({\n",
    "    'student_id': ['S1', 'S2', 'S3', 'S4', 'S5'],\n",
    "    'name': ['Danniella Fenton', 'Ryder Storey', 'Bryce Jensen', 'Ed Bernal', 'Kwame Morin'],\n",
    "    'marks': [200, 210, 190, 222, 199]\n",
    "})\n",
    "\n",
    "student_data2 = pd.DataFrame({\n",
    "    'student_id': ['S4', 'S5', 'S6', 'S7', 'S8'],\n",
    "    'name': ['Scarlette Fisher', 'Carla Williamson', 'Dante Morse', 'Kaiser William', 'Madeeha Preston'],\n",
    "    'marks': [201, 200, 198, 219, 201]\n",
    "})\n",
    "\n",
    "# Concatenate along row\n",
    "result = pd.concat([student_data1, student_data2], ignore_index=True)\n",
    "\n",
    "print(result)"
   ]
  },
  {
   "cell_type": "markdown",
   "id": "e4e4ed11",
   "metadata": {},
   "source": [
    "2. Write a Pandas program to join the two given dataframes along columns and assign all data.\n",
    "Test Data:\n",
    "\n",
    "student_data1:\n",
    "\n",
    "  student_id              name  marks\n",
    "\n",
    "0         S1  Danniella Fenton    200\n",
    "\n",
    "1         S2      Ryder Storey    210\n",
    "\n",
    "2         S3      Bryce Jensen    190\n",
    "\n",
    "3         S4         Ed Bernal    222\n",
    "\n",
    "4         S5       Kwame Morin    199\n",
    "\n",
    "\n",
    "\n",
    "student_data2:\n",
    "\n",
    "  student_id              name  marks\n",
    "\n",
    "0         S4  Scarlette Fisher    201\n",
    "\n",
    "1         S5  Carla Williamson    200\n",
    "\n",
    "2         S6       Dante Morse    198\n",
    "\n",
    "3         S7    Kaiser William    219\n",
    "\n",
    "4         S8   Madeeha Preston    201"
   ]
  },
  {
   "cell_type": "code",
   "execution_count": 3,
   "id": "4f34049d",
   "metadata": {},
   "outputs": [
    {
     "name": "stdout",
     "output_type": "stream",
     "text": [
      "  student_id              name  marks student_id              name  marks\n",
      "0         S1  Danniella Fenton    200         S4  Scarlette Fisher    201\n",
      "1         S2      Ryder Storey    210         S5  Carla Williamson    200\n",
      "2         S3      Bryce Jensen    190         S6       Dante Morse    198\n",
      "3         S4         Ed Bernal    222         S7    Kaiser William    219\n",
      "4         S5       Kwame Morin    199         S8   Madeeha Preston    201\n"
     ]
    }
   ],
   "source": [
    "result = pd.concat([student_data1, student_data2], axis=1)\n",
    "print(result)"
   ]
  },
  {
   "cell_type": "markdown",
   "id": "26e5cfb2",
   "metadata": {},
   "source": [
    "3. Write a Pandas program to append rows to an existing DataFrame and display the combined data.\n",
    "Test Data:\n",
    "\n",
    "student_data1\n",
    "\n",
    "  student_id              name  marks\n",
    "\n",
    "0         S1  Danniella Fenton    200\n",
    "\n",
    "1         S2      Ryder Storey    210\n",
    "\n",
    "2         S3      Bryce Jensen    190\n",
    "\n",
    "3         S4         Ed Bernal    222\n",
    "\n",
    "4         S5       Kwame Morin    199\n",
    "\n",
    "\n",
    "\n",
    "New Row(s)\n",
    "\n",
    "student_id                  S6\n",
    "\n",
    "name          Scarlette Fisher\n",
    "\n",
    "marks                      205\n",
    "\n",
    "dtype: object"
   ]
  },
  {
   "cell_type": "code",
   "execution_count": 4,
   "id": "d84c9006",
   "metadata": {},
   "outputs": [
    {
     "name": "stdout",
     "output_type": "stream",
     "text": [
      "  student_id              name marks\n",
      "0         S1  Danniella Fenton   200\n",
      "1         S2      Ryder Storey   210\n",
      "2         S3      Bryce Jensen   190\n",
      "3         S4         Ed Bernal   222\n",
      "4         S5       Kwame Morin   199\n",
      "5         S6  Scarlette Fisher   205\n"
     ]
    }
   ],
   "source": [
    "new_rows = pd.Series({\n",
    "    'student_id': 'S6',\n",
    "    'name': 'Scarlette Fisher',\n",
    "    'marks': 205\n",
    "})\n",
    "\n",
    "# Append the new row(s) to the existing DataFrame\n",
    "result = pd.concat([student_data1, new_rows.to_frame().T], ignore_index=True)\n",
    "\n",
    "# Print the resulting DataFrame\n",
    "print(result)"
   ]
  },
  {
   "cell_type": "markdown",
   "id": "b71888c5",
   "metadata": {},
   "source": [
    "4. Write a Pandas program to append a list of dictioneries or series to a existing DataFrame and display the combined data.\n",
    "Test Data:\n",
    "\n",
    " student_id              name  marks\n",
    "\n",
    "0         S1  Danniella Fenton    200\n",
    "\n",
    "1         S2      Ryder Storey    210\n",
    "\n",
    "2         S3      Bryce Jensen    190\n",
    "\n",
    "3         S4         Ed Bernal    222\n",
    "\n",
    "4         S5       Kwame Morin    199\n",
    "\n",
    "\n",
    "\n",
    "Dictionary:\n",
    "\n",
    "student_id                  S6\n",
    "\n",
    "name          Scarlette Fisher\n",
    "\n",
    "marks                      205\n",
    "\n",
    "dtype: object"
   ]
  },
  {
   "cell_type": "code",
   "execution_count": 5,
   "id": "b5f31505",
   "metadata": {},
   "outputs": [
    {
     "name": "stdout",
     "output_type": "stream",
     "text": [
      "  student_id              name  marks\n",
      "0         S1  Danniella Fenton    200\n",
      "1         S2      Ryder Storey    210\n",
      "2         S3      Bryce Jensen    190\n",
      "3         S4         Ed Bernal    222\n",
      "4         S5       Kwame Morin    199\n",
      "5         S6  Scarlette Fisher    205\n",
      "6         S7      Bryce Jensen    208\n"
     ]
    }
   ],
   "source": [
    "new_data = [\n",
    "    {'student_id': 'S6', 'name': 'Scarlette Fisher', 'marks': 205},\n",
    "    pd.Series({'student_id': 'S7', 'name': 'Bryce Jensen', 'marks': 208})\n",
    "]\n",
    "\n",
    "# Append the list of dictionaries or series to the existing DataFrame\n",
    "result = pd.concat([student_data1, pd.DataFrame(new_data)], ignore_index=True)\n",
    "\n",
    "# Print the resulting DataFrame\n",
    "print(result)"
   ]
  },
  {
   "cell_type": "markdown",
   "id": "f811e159",
   "metadata": {},
   "source": [
    "5. Write a Pandas program to join the two given dataframes along rows and merge with another dataframe along the common column id.\n",
    "Test Data:\n",
    "\n",
    "student_data1:\n",
    "\n",
    "  student_id              name  marks\n",
    "\n",
    "0         S1  Danniella Fenton    200\n",
    "\n",
    "1         S2      Ryder Storey    210\n",
    "\n",
    "2         S3      Bryce Jensen    190\n",
    "\n",
    "3         S4         Ed Bernal    222\n",
    "\n",
    "4         S5       Kwame Morin    199\n",
    "\n",
    "\n",
    "\n",
    "student_data2:\n",
    "\n",
    "  student_id              name  marks\n",
    "\n",
    "0         S4  Scarlette Fisher    201\n",
    "\n",
    "1         S5  Carla Williamson    200\n",
    "\n",
    "2         S6       Dante Morse    198\n",
    "\n",
    "3         S7    Kaiser William    219\n",
    "\n",
    "4         S8   Madeeha Preston    201\n",
    "\n",
    "\n",
    "\n",
    "exam_data:\n",
    "\n",
    "   student_id  exam_id\n",
    "\n",
    "0          S1       23\n",
    "\n",
    "1          S2       45\n",
    "\n",
    "2          S3       12\n",
    "\n",
    "3          S4       67\n",
    "\n",
    "4          S5       21\n",
    "\n",
    "5          S7       55\n",
    "\n",
    "6          S8       33\n",
    "\n",
    "7          S9       14\n",
    "\n",
    "8         S10       56\n",
    "\n",
    "9         S11       83\n",
    "\n",
    "10        S12       88\n",
    "\n",
    "11        S13       12"
   ]
  },
  {
   "cell_type": "code",
   "execution_count": 6,
   "id": "b231702b",
   "metadata": {},
   "outputs": [
    {
     "name": "stdout",
     "output_type": "stream",
     "text": [
      "  student_id              name  marks  exam_id\n",
      "0         S1  Danniella Fenton    200     23.0\n",
      "1         S2      Ryder Storey    210     45.0\n",
      "2         S3      Bryce Jensen    190     12.0\n",
      "3         S4         Ed Bernal    222     67.0\n",
      "4         S5       Kwame Morin    199     21.0\n",
      "5         S4  Scarlette Fisher    201     67.0\n",
      "6         S5  Carla Williamson    200     21.0\n",
      "7         S6       Dante Morse    198      NaN\n",
      "8         S7    Kaiser William    219     55.0\n",
      "9         S8   Madeeha Preston    201     33.0\n"
     ]
    }
   ],
   "source": [
    "exam_data = pd.DataFrame({\n",
    "    'student_id': ['S1', 'S2', 'S3', 'S4', 'S5', 'S7', 'S8', 'S9', 'S10', 'S11', 'S12', 'S13'],\n",
    "    'exam_id': [23, 45, 12, 67, 21, 55, 33, 14, 56, 83, 88, 12]\n",
    "})\n",
    "\n",
    "all_student_data = pd.concat([student_data1, student_data2], ignore_index=True)\n",
    "\n",
    "merged_data = pd.merge(all_student_data, exam_data, on='student_id', how='left')\n",
    "\n",
    "print(merged_data)"
   ]
  },
  {
   "cell_type": "markdown",
   "id": "83ac417c",
   "metadata": {},
   "source": [
    "6. Write a Pandas program to join the two dataframes using the common column of both dataframes.\n",
    "Test Data:\n",
    "\n",
    "student_data1:\n",
    "\n",
    "  student_id              name  marks\n",
    "\n",
    "0         S1  Danniella Fenton    200\n",
    "\n",
    "1         S2      Ryder Storey    210\n",
    "\n",
    "2         S3      Bryce Jensen    190\n",
    "\n",
    "3         S4         Ed Bernal    222\n",
    "\n",
    "4         S5       Kwame Morin    199\n",
    "\n",
    "\n",
    "\n",
    "student_data2:\n",
    "\n",
    "  student_id              name  marks\n",
    "\n",
    "0         S4  Scarlette Fisher    201\n",
    "\n",
    "1         S5  Carla Williamson    200\n",
    "\n",
    "2         S6       Dante Morse    198\n",
    "\n",
    "3         S7    Kaiser William    219\n",
    "\n",
    "4         S8   Madeeha Preston    201"
   ]
  },
  {
   "cell_type": "code",
   "execution_count": 7,
   "id": "a201f9cc",
   "metadata": {},
   "outputs": [
    {
     "name": "stdout",
     "output_type": "stream",
     "text": [
      "  student_id            name_x  marks_x            name_y  marks_y\n",
      "0         S1  Danniella Fenton    200.0               NaN      NaN\n",
      "1         S2      Ryder Storey    210.0               NaN      NaN\n",
      "2         S3      Bryce Jensen    190.0               NaN      NaN\n",
      "3         S4         Ed Bernal    222.0  Scarlette Fisher    201.0\n",
      "4         S5       Kwame Morin    199.0  Carla Williamson    200.0\n",
      "5         S6               NaN      NaN       Dante Morse    198.0\n",
      "6         S7               NaN      NaN    Kaiser William    219.0\n",
      "7         S8               NaN      NaN   Madeeha Preston    201.0\n"
     ]
    }
   ],
   "source": [
    "merged_data = pd.merge(student_data1, student_data2, on='student_id', how='outer')\n",
    "\n",
    "# Print the merged dataframe\n",
    "print(merged_data)"
   ]
  },
  {
   "cell_type": "markdown",
   "id": "a0acc6c2",
   "metadata": {},
   "source": [
    "7. Write a Pandas program to join the two dataframes with matching records from both sides where available.\n",
    "Test Data:\n",
    "\n",
    "student_data1:\n",
    "\n",
    "  student_id              name  marks\n",
    "\n",
    "0         S1  Danniella Fenton    200\n",
    "\n",
    "1         S2      Ryder Storey    210\n",
    "\n",
    "2         S3      Bryce Jensen    190\n",
    "\n",
    "3         S4         Ed Bernal    222\n",
    "\n",
    "4         S5       Kwame Morin    199\n",
    "\n",
    "\n",
    "\n",
    "student_data2:\n",
    "\n",
    "  student_id              name  marks\n",
    "\n",
    "0         S4  Scarlette Fisher    201\n",
    "\n",
    "1         S5  Carla Williamson    200\n",
    "\n",
    "2         S6       Dante Morse    198\n",
    "\n",
    "3         S7    Kaiser William    219\n",
    "\n",
    "4         S8   Madeeha Preston    201"
   ]
  },
  {
   "cell_type": "code",
   "execution_count": 8,
   "id": "008b9944",
   "metadata": {},
   "outputs": [
    {
     "name": "stdout",
     "output_type": "stream",
     "text": [
      "  student_id       name_x  marks_x            name_y  marks_y\n",
      "0         S4    Ed Bernal      222  Scarlette Fisher      201\n",
      "1         S5  Kwame Morin      199  Carla Williamson      200\n"
     ]
    }
   ],
   "source": [
    "merged_data = pd.merge(student_data1, student_data2, on='student_id', how='inner')\n",
    "\n",
    "print(merged_data)"
   ]
  },
  {
   "cell_type": "markdown",
   "id": "77aff952",
   "metadata": {},
   "source": [
    "8. Write a Pandas program to join (left join) the two dataframes using keys from left dataframe only.\n",
    "Test Data:\n",
    "\n",
    "data1:\n",
    "\n",
    "  key1 key2   P   Q\n",
    "\n",
    "0   K0   K0  P0  Q0\n",
    "\n",
    "1   K0   K1  P1  Q1\n",
    "\n",
    "2   K1   K0  P2  Q2\n",
    "\n",
    "3   K2   K1  P3  Q3\n",
    "\n",
    "\n",
    "\n",
    "data2:\n",
    "\n",
    "  key1 key2   R   S\n",
    "\n",
    "0   K0   K0  R0  S0\n",
    "\n",
    "1   K1   K0  R1  S1\n",
    "\n",
    "2   K1   K0  R2  S2\n",
    "\n",
    "3   K2   K0  R3  S3"
   ]
  },
  {
   "cell_type": "code",
   "execution_count": 9,
   "id": "93d2f71d",
   "metadata": {},
   "outputs": [
    {
     "name": "stdout",
     "output_type": "stream",
     "text": [
      "  key1 key2   P   Q    R    S\n",
      "0   K0   K0  P0  Q0   R0   S0\n",
      "1   K0   K1  P1  Q1  NaN  NaN\n",
      "2   K1   K0  P2  Q2   R1   S1\n",
      "3   K1   K0  P2  Q2   R2   S2\n",
      "4   K2   K1  P3  Q3  NaN  NaN\n"
     ]
    }
   ],
   "source": [
    "# Define data dataframes\n",
    "data1 = pd.DataFrame({\n",
    "    'key1': ['K0', 'K0', 'K1', 'K2'],\n",
    "    'key2': ['K0', 'K1', 'K0', 'K1'],\n",
    "    'P': ['P0', 'P1', 'P2', 'P3'],\n",
    "    'Q': ['Q0', 'Q1', 'Q2', 'Q3']\n",
    "})\n",
    "\n",
    "\n",
    "data2 = pd.DataFrame({\n",
    "    'key1': ['K0', 'K1', 'K1', 'K2'],\n",
    "    'key2': ['K0', 'K0', 'K0', 'K0'],\n",
    "    'R': ['R0', 'R1', 'R2', 'R3'],\n",
    "    'S': ['S0', 'S1', 'S2', 'S3']\n",
    "})\n",
    "\n",
    "merged_data = pd.merge(data1, data2, on=['key1', 'key2'], how='left')\n",
    "\n",
    "print(merged_data)"
   ]
  },
  {
   "cell_type": "markdown",
   "id": "27c3fdea",
   "metadata": {},
   "source": [
    "9. Write a Pandas program to join two dataframes using keys from right dataframe only.\n",
    "Test Data:\n",
    "\n",
    "data1:\n",
    "\n",
    "  key1 key2   P   Q\n",
    "\n",
    "0   K0   K0  P0  Q0\n",
    "\n",
    "1   K0   K1  P1  Q1\n",
    "\n",
    "2   K1   K0  P2  Q2\n",
    "\n",
    "3   K2   K1  P3  Q3\n",
    "\n",
    "\n",
    "\n",
    "data2:\n",
    "\n",
    "  key1 key2   R   S\n",
    "\n",
    "0   K0   K0  R0  S0\n",
    "\n",
    "1   K1   K0  R1  S1\n",
    "\n",
    "2   K1   K0  R2  S2\n",
    "\n",
    "3   K2   K0  R3  S3"
   ]
  },
  {
   "cell_type": "code",
   "execution_count": 10,
   "id": "aec73b47",
   "metadata": {},
   "outputs": [
    {
     "name": "stdout",
     "output_type": "stream",
     "text": [
      "  key1 key2    P    Q   R   S\n",
      "0   K0   K0   P0   Q0  R0  S0\n",
      "1   K1   K0   P2   Q2  R1  S1\n",
      "2   K1   K0   P2   Q2  R2  S2\n",
      "3   K2   K0  NaN  NaN  R3  S3\n"
     ]
    }
   ],
   "source": [
    "merged_data = pd.merge(data1, data2, on=['key1', 'key2'], how='right')\n",
    "\n",
    "print(merged_data)"
   ]
  },
  {
   "cell_type": "markdown",
   "id": "0df1f334",
   "metadata": {},
   "source": [
    "10. Write a Pandas program to merge two given datasets using multiple join keys.\n",
    "Test Data:\n",
    "\n",
    "data1:\n",
    "\n",
    "  key1 key2   P   Q\n",
    "\n",
    "0   K0   K0  P0  Q0\n",
    "\n",
    "1   K0   K1  P1  Q1\n",
    "\n",
    "2   K1   K0  P2  Q2\n",
    "\n",
    "3   K2   K1  P3  Q3\n",
    "\n",
    "\n",
    "\n",
    "data2:\n",
    "\n",
    "  key1 key2   R   S\n",
    "\n",
    "0   K0   K0  R0  S0\n",
    "\n",
    "1   K1   K0  R1  S1\n",
    "\n",
    "2   K1   K0  R2  S2\n",
    "\n",
    "3   K2   K0  R3  S3"
   ]
  },
  {
   "cell_type": "code",
   "execution_count": 11,
   "id": "9d5a4a20",
   "metadata": {},
   "outputs": [
    {
     "name": "stdout",
     "output_type": "stream",
     "text": [
      "  key1 key2   P   Q   R   S\n",
      "0   K0   K0  P0  Q0  R0  S0\n",
      "1   K1   K0  P2  Q2  R1  S1\n",
      "2   K1   K0  P2  Q2  R2  S2\n"
     ]
    }
   ],
   "source": [
    "merged_data = pd.merge(data1, data2, on=['key1', 'key2'])\n",
    "\n",
    "print(merged_data)"
   ]
  },
  {
   "cell_type": "markdown",
   "id": "7bbee736",
   "metadata": {},
   "source": []
  },
  {
   "cell_type": "markdown",
   "id": "834e4d7c",
   "metadata": {},
   "source": [
    "11. Write a Pandas program to create a new DataFrame based on existing series,  using specified argument \n",
    "and override the existing columns names."
   ]
  },
  {
   "cell_type": "markdown",
   "id": "2e29a349",
   "metadata": {},
   "source": []
  },
  {
   "cell_type": "code",
   "execution_count": 12,
   "id": "d975dc1e",
   "metadata": {},
   "outputs": [
    {
     "name": "stdout",
     "output_type": "stream",
     "text": [
      "   Numbers Letters  Booleans\n",
      "0       10       A      True\n",
      "1       20       B     False\n",
      "2       30       C      True\n",
      "3       40       D     False\n",
      "4       50       E      True\n"
     ]
    }
   ],
   "source": [
    "series1 = pd.Series([10, 20, 30, 40, 50])\n",
    "series2 = pd.Series(['A', 'B', 'C', 'D', 'E'])\n",
    "series3 = pd.Series([True, False, True, False, True])\n",
    "\n",
    "data = {\n",
    "    'Series1': series1,\n",
    "    'Series2': series2,\n",
    "    'Series3': series3\n",
    "}\n",
    "\n",
    "df = pd.DataFrame(data)\n",
    "\n",
    "new_column_names = ['Numbers', 'Letters', 'Booleans']\n",
    "df.columns = new_column_names\n",
    "\n",
    "print(df)"
   ]
  },
  {
   "cell_type": "markdown",
   "id": "ebce361f",
   "metadata": {},
   "source": []
  },
  {
   "cell_type": "markdown",
   "id": "50f0f7b3",
   "metadata": {},
   "source": [
    "12. Write a Pandas program to create a combination from two dataframes where a column id combination appears more than once in both dataframes.\n",
    "Test Data:\n",
    "\n",
    "data1:\n",
    "\n",
    "  key1 key2   P   Q\n",
    "\n",
    "0   K0   K0  P0  Q0\n",
    "\n",
    "1   K0   K1  P1  Q1\n",
    "\n",
    "2   K1   K0  P2  Q2\n",
    "\n",
    "3   K2   K1  P3  Q3\n",
    "\n",
    "\n",
    "\n",
    "data2:\n",
    "\n",
    "  key1 key2   R   S\n",
    "\n",
    "0   K0   K0  R0  S0\n",
    "\n",
    "1   K1   K0  R1  S1\n",
    "\n",
    "2   K1   K0  R2  S2\n",
    "\n",
    "3   K2   K0  R3  S3"
   ]
  },
  {
   "cell_type": "markdown",
   "id": "2ac1d977",
   "metadata": {},
   "source": []
  },
  {
   "cell_type": "code",
   "execution_count": 13,
   "id": "d6be147f",
   "metadata": {},
   "outputs": [
    {
     "name": "stdout",
     "output_type": "stream",
     "text": [
      "  key1 key2   P   Q   R   S\n",
      "1   K1   K0  P2  Q2  R1  S1\n",
      "2   K1   K0  P2  Q2  R2  S2\n"
     ]
    }
   ],
   "source": [
    "data1 = pd.DataFrame({\n",
    "    'key1': ['K0', 'K0', 'K1', 'K2'],\n",
    "    'key2': ['K0', 'K1', 'K0', 'K1'],\n",
    "    'P': ['P0', 'P1', 'P2', 'P3'],\n",
    "    'Q': ['Q0', 'Q1', 'Q2', 'Q3']\n",
    "})\n",
    "\n",
    "data2 = pd.DataFrame({\n",
    "    'key1': ['K0', 'K1', 'K1', 'K2'],\n",
    "    'key2': ['K0', 'K0', 'K0', 'K0'],\n",
    "    'R': ['R0', 'R1', 'R2', 'R3'],\n",
    "    'S': ['S0', 'S1', 'S2', 'S3']\n",
    "})\n",
    "\n",
    "merged_data = pd.merge(data1, data2, on=['key1', 'key2'])\n",
    "result = merged_data.groupby(['key1', 'key2']).filter(lambda x: len(x) > 1)\n",
    "\n",
    "print(result)"
   ]
  },
  {
   "cell_type": "markdown",
   "id": "dfe461a8",
   "metadata": {},
   "source": []
  },
  {
   "cell_type": "markdown",
   "id": "ad4e6265",
   "metadata": {},
   "source": [
    "13. Write a Pandas program to combine the columns of two potentially differently-indexed DataFrames into a single result DataFrame.\n",
    "Test Data:\n",
    "\n",
    "data1:\n",
    "\n",
    "     A   B\n",
    "\n",
    "K0  A0  B0\n",
    "\n",
    "K1  A1  B1\n",
    "\n",
    "K2  A2  B2\n",
    "\n",
    "\n",
    "\n",
    "data2:\n",
    "\n",
    "     C   D\n",
    "\n",
    "K0  C0  D0\n",
    "\n",
    "K2  C2  D2\n",
    "\n",
    "K3  C3  D3\n",
    "\n"
   ]
  },
  {
   "cell_type": "code",
   "execution_count": 14,
   "id": "8410d8c3",
   "metadata": {},
   "outputs": [
    {
     "name": "stdout",
     "output_type": "stream",
     "text": [
      "      A    B    C    D\n",
      "K0   A0   B0   C0   D0\n",
      "K1   A1   B1  NaN  NaN\n",
      "K2   A2   B2   C2   D2\n",
      "K3  NaN  NaN   C3   D3\n"
     ]
    }
   ],
   "source": [
    "data1 = pd.DataFrame({\n",
    "    'A': ['A0', 'A1', 'A2'],\n",
    "    'B': ['B0', 'B1', 'B2']\n",
    "}, index=['K0', 'K1', 'K2'])\n",
    "\n",
    "data2 = pd.DataFrame({\n",
    "    'C': ['C0', 'C2', 'C3'],\n",
    "    'D': ['D0', 'D2', 'D3']\n",
    "}, index=['K0', 'K2', 'K3'])\n",
    "\n",
    "result = pd.concat([data1, data2], axis=1, join='outer')\n",
    "\n",
    "print(result)"
   ]
  },
  {
   "cell_type": "markdown",
   "id": "c54800c0",
   "metadata": {},
   "source": [
    "14. Write a Pandas program to merge two given dataframes with different columns.\n",
    "Test Data:\n",
    "\n",
    "data1:\n",
    "\n",
    "  key1 key2   P   Q\n",
    "\n",
    "0   K0   K0  P0  Q0\n",
    "\n",
    "1   K0   K1  P1  Q1\n",
    "\n",
    "2   K1   K0  P2  Q2\n",
    "\n",
    "3   K2   K1  P3  Q3\n",
    "\n",
    "\n",
    "\n",
    "data2:\n",
    "\n",
    "  key1 key2   R   S\n",
    "\n",
    "0   K0   K0  R0  S0\n",
    "\n",
    "1   K1   K0  R1  S1\n",
    "\n",
    "2   K1   K0  R2  S2\n",
    "\n",
    "3   K2   K0  R3  S3"
   ]
  },
  {
   "cell_type": "code",
   "execution_count": 15,
   "id": "b5d6c45b",
   "metadata": {},
   "outputs": [
    {
     "name": "stdout",
     "output_type": "stream",
     "text": [
      "  key1 key2    P    Q    R    S\n",
      "0   K0   K0   P0   Q0   R0   S0\n",
      "1   K0   K1   P1   Q1  NaN  NaN\n",
      "2   K1   K0   P2   Q2   R1   S1\n",
      "3   K1   K0   P2   Q2   R2   S2\n",
      "4   K2   K1   P3   Q3  NaN  NaN\n",
      "5   K2   K0  NaN  NaN   R3   S3\n"
     ]
    }
   ],
   "source": [
    "data1 = pd.DataFrame({\n",
    "    'key1': ['K0', 'K0', 'K1', 'K2'],\n",
    "    'key2': ['K0', 'K1', 'K0', 'K1'],\n",
    "    'P': ['P0', 'P1', 'P2', 'P3'],\n",
    "    'Q': ['Q0', 'Q1', 'Q2', 'Q3']\n",
    "})\n",
    "\n",
    "data2 = pd.DataFrame({\n",
    "    'key1': ['K0', 'K1', 'K1', 'K2'],\n",
    "    'key2': ['K0', 'K0', 'K0', 'K0'],\n",
    "    'R': ['R0', 'R1', 'R2', 'R3'],\n",
    "    'S': ['S0', 'S1', 'S2', 'S3']\n",
    "})\n",
    "\n",
    "merged_data = pd.merge(data1, data2, on=['key1', 'key2'], how='outer')\n",
    "\n",
    "print(merged_data)"
   ]
  },
  {
   "cell_type": "markdown",
   "id": "bf877154",
   "metadata": {},
   "source": [
    "15. Write a Pandas program to Combine two DataFrame objects by filling null values in one DataFrame with non-null values from other DataFrame.\n",
    "Test Data:\n",
    "\n",
    "Original DataFrames:\n",
    "\n",
    "     A  B\n",
    "\n",
    "0  NaN  3\n",
    "\n",
    "1  0.0  4\n",
    "\n",
    "2  NaN  5\n",
    "\n",
    "\n",
    "\n",
    "  A    B\n",
    "\n",
    "0  1  3.0\n",
    "\n",
    "1  1  NaN\n",
    "\n",
    "2  3  3.0"
   ]
  },
  {
   "cell_type": "code",
   "execution_count": 17,
   "id": "4fae1704",
   "metadata": {},
   "outputs": [],
   "source": [
    "import numpy as np"
   ]
  },
  {
   "cell_type": "code",
   "execution_count": 18,
   "id": "656c1a00",
   "metadata": {},
   "outputs": [
    {
     "name": "stdout",
     "output_type": "stream",
     "text": [
      "Combined DataFrame:\n",
      "     A    B\n",
      "0  1.0  3.0\n",
      "1  0.0  4.0\n",
      "2  3.0  5.0\n"
     ]
    }
   ],
   "source": [
    "df1 = pd.DataFrame({'A': [np.nan, 0, np.nan], 'B': [3, 4, 5]})\n",
    "\n",
    "df2 = pd.DataFrame({'A': [1, 1, 3], 'B': [3.0, np.nan, 3.0]})\n",
    "\n",
    "combined_df = df1.combine_first(df2)\n",
    "\n",
    "print(\"Combined DataFrame:\")\n",
    "print(combined_df)"
   ]
  },
  {
   "cell_type": "code",
   "execution_count": null,
   "id": "6724cd31",
   "metadata": {},
   "outputs": [],
   "source": []
  }
 ],
 "metadata": {
  "kernelspec": {
   "display_name": "Python 3 (ipykernel)",
   "language": "python",
   "name": "python3"
  },
  "language_info": {
   "codemirror_mode": {
    "name": "ipython",
    "version": 3
   },
   "file_extension": ".py",
   "mimetype": "text/x-python",
   "name": "python",
   "nbconvert_exporter": "python",
   "pygments_lexer": "ipython3",
   "version": "3.11.4"
  }
 },
 "nbformat": 4,
 "nbformat_minor": 5
}
