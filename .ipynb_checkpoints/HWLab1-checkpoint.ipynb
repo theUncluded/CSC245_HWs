{
 "cells": [
  {
   "cell_type": "code",
   "execution_count": 3,
   "id": "85ee5791",
   "metadata": {},
   "outputs": [],
   "source": [
    "import numpy as np\n",
    "import matplotlib as pl\n",
    "import pandas as pd"
   ]
  },
  {
   "cell_type": "code",
   "execution_count": 4,
   "id": "3db5f65d",
   "metadata": {},
   "outputs": [],
   "source": [
    "#1. Create a rank 2 (2D) array that resembles the matrix below.\n",
    "#[[11 12 13 14]\n",
    "# [15 16 17 18]]"
   ]
  },
  {
   "cell_type": "code",
   "execution_count": 8,
   "id": "1bb9ba31",
   "metadata": {},
   "outputs": [],
   "source": [
    "two_d = np.array([[11 ,12 ,13 ,14], [15 ,16 ,17 ,18]])"
   ]
  },
  {
   "cell_type": "code",
   "execution_count": 9,
   "id": "74b0ae2d",
   "metadata": {},
   "outputs": [
    {
     "name": "stdout",
     "output_type": "stream",
     "text": [
      "[[11 12 13 14]\n",
      " [15 16 17 18]]\n"
     ]
    }
   ],
   "source": [
    "print(two_d)"
   ]
  },
  {
   "cell_type": "markdown",
   "id": "33af947b",
   "metadata": {},
   "source": [
    "# Use the appropriate functions to solve the following questions\n",
    "1. Create an array with 4 rows and 3 columns of zeros. Your results should look as below:\n",
    "[[0. 0. 0.]\n",
    " [0. 0. 0.]\n",
    " [0. 0. 0.]\n",
    " [0. 0. 0.]]"
   ]
  },
  {
   "cell_type": "code",
   "execution_count": 14,
   "id": "51e37fd8",
   "metadata": {},
   "outputs": [],
   "source": [
    "col_row = np.zeros((4,3))"
   ]
  },
  {
   "cell_type": "code",
   "execution_count": 15,
   "id": "ed7e1d9d",
   "metadata": {},
   "outputs": [
    {
     "name": "stdout",
     "output_type": "stream",
     "text": [
      "[[0. 0. 0.]\n",
      " [0. 0. 0.]\n",
      " [0. 0. 0.]\n",
      " [0. 0. 0.]]\n"
     ]
    }
   ],
   "source": [
    "print(col_row)"
   ]
  },
  {
   "cell_type": "markdown",
   "id": "8b5da32c",
   "metadata": {},
   "source": [
    "2.Create an array of ones that has 3 rows and 4 columns. Your results should look as below:\n",
    "[[1. 1. 1. 1.]\n",
    "[1. 1. 1. 1.]\n",
    "[1. 1. 1. 1.]]"
   ]
  },
  {
   "cell_type": "code",
   "execution_count": 16,
   "id": "11aa2c64",
   "metadata": {},
   "outputs": [
    {
     "name": "stdout",
     "output_type": "stream",
     "text": [
      "[[1. 1. 1. 1.]\n",
      " [1. 1. 1. 1.]\n",
      " [1. 1. 1. 1.]]\n"
     ]
    }
   ],
   "source": [
    "three_four = np.ones((3,4))\n",
    "print(three_four)"
   ]
  },
  {
   "cell_type": "markdown",
   "id": "97762164",
   "metadata": {},
   "source": [
    "3. Create an array containing integers 4 to 13 inclusive. Your results should look as below:\n",
    "[4 5 6 7 8 9 10 11 12 13]"
   ]
  },
  {
   "cell_type": "code",
   "execution_count": 17,
   "id": "0395a28b",
   "metadata": {},
   "outputs": [
    {
     "name": "stdout",
     "output_type": "stream",
     "text": [
      "[ 4.  5.  6.  7.  8.  9. 10. 11. 12. 13.]\n"
     ]
    }
   ],
   "source": [
    "uh = np.linspace(4,13,10)\n",
    "print(uh)"
   ]
  },
  {
   "cell_type": "markdown",
   "id": "9b797248",
   "metadata": {},
   "source": [
    "4. Create an array containing\n",
    "[0., 1.5, 3., 4.5]"
   ]
  },
  {
   "cell_type": "code",
   "execution_count": 18,
   "id": "7a1c41d5",
   "metadata": {},
   "outputs": [
    {
     "name": "stdout",
     "output_type": "stream",
     "text": [
      "[0.  1.5 3.  4.5]\n"
     ]
    }
   ],
   "source": [
    "bruh = np.linspace(0,4.5,4)\n",
    "print(bruh)"
   ]
  },
  {
   "cell_type": "markdown",
   "id": "e589dcc8",
   "metadata": {},
   "source": [
    "5. Create a 2 by 2 array containing '4' in each position. Your results should look like this:\n",
    "[[4 4]\n",
    " [4 4]]"
   ]
  },
  {
   "cell_type": "code",
   "execution_count": 21,
   "id": "11c13d1c",
   "metadata": {},
   "outputs": [
    {
     "name": "stdout",
     "output_type": "stream",
     "text": [
      "[[4 4]\n",
      " [4 4]]\n"
     ]
    }
   ],
   "source": [
    "two = np.array([[4,4],[4,4]])\n",
    "print(two)"
   ]
  },
  {
   "cell_type": "markdown",
   "id": "2165afb2",
   "metadata": {},
   "source": [
    "6\n",
    ". Create 2 matrices:\n",
    "i. Identity matrix of size 4\n",
    "[[1. 0. 0. 0.]\n",
    " [0. 1. 0. 0.]\n",
    " [0. 0. 1. 0.]\n",
    " [0. 0. 0. 1.]]\n",
    "ii. Diagonal matrix with [10,12] as the diagonals\n",
    "[[10  0]\n",
    " [ 0 12]]"
   ]
  },
  {
   "cell_type": "code",
   "execution_count": 23,
   "id": "9afd1037",
   "metadata": {},
   "outputs": [
    {
     "name": "stdout",
     "output_type": "stream",
     "text": [
      "[[1. 0. 0. 0.]\n",
      " [0. 0. 0. 0.]\n",
      " [0. 0. 0. 0.]\n",
      " [0. 0. 0. 1.]]\n"
     ]
    }
   ],
   "source": [
    "diag = np.zeros((4,4))\n",
    "diag[0][0] = 1\n",
    "diag[len(diag)-1][3] = 1\n",
    "\n",
    "mat = np.matrix(diag)\n",
    "print(mat)"
   ]
  },
  {
   "cell_type": "code",
   "execution_count": 25,
   "id": "ae421049",
   "metadata": {},
   "outputs": [
    {
     "name": "stdout",
     "output_type": "stream",
     "text": [
      "[[10  0]\n",
      " [ 0 12]]\n"
     ]
    }
   ],
   "source": [
    "print(np.matrix([[10 , 0],[0,12]]))"
   ]
  },
  {
   "cell_type": "markdown",
   "id": "8b6b082a",
   "metadata": {},
   "source": [
    "7. Create a 3 by 3 array with random floats in [0, 10]. Your answer may be different because it is random but it should look something like this:\n",
    "[[6.3685612  0.61720883 8.93157783]\n",
    " [3.69927617 5.79879583 7.62145626]\n",
    " [7.21895112 4.02011535 4.48844787]]"
   ]
  },
  {
   "cell_type": "code",
   "execution_count": 26,
   "id": "51cb21e0",
   "metadata": {},
   "outputs": [
    {
     "name": "stdout",
     "output_type": "stream",
     "text": [
      "[[0.70959775 0.37280049 0.60488486]\n",
      " [0.26243799 0.63263948 0.72933222]\n",
      " [0.25829372 0.58979201 0.14821361]]\n"
     ]
    }
   ],
   "source": [
    "three = np.random.rand(3,3)\n",
    "print(three)"
   ]
  },
  {
   "cell_type": "markdown",
   "id": "793ced1a",
   "metadata": {},
   "source": [
    "8. Create a 3 by 3 array with random integers in [10, 20]. Your answer may be different because it is random but it should look something like this:\n",
    "[[19 11 13]\n",
    " [10 11 13]\n",
    " [11 14 10]]"
   ]
  },
  {
   "cell_type": "code",
   "execution_count": 28,
   "id": "2728b974",
   "metadata": {},
   "outputs": [
    {
     "name": "stdout",
     "output_type": "stream",
     "text": [
      "[[ 38  30 362]\n",
      " [173 192 160]\n",
      " [199 145 395]]\n"
     ]
    }
   ],
   "source": [
    "ran = np.random.randint(1,420,size=(3,3))\n",
    "print(ran)"
   ]
  },
  {
   "cell_type": "markdown",
   "id": "51fbe51a",
   "metadata": {},
   "source": [
    "SLICING ARRAYS\n",
    "1. Use this array for the following practice:\n",
    "myArray = np.array([[11,12,13], [14,15,16], [17,18,19]])\n",
    "a. Get a subarray of the first row and first 2 columns. Your results should look like this:\n",
    "[11 12]\n",
    "b. Change all elements in 1st and second row to 0. Your results should look like this:\n",
    "[[ 0  0  0]\n",
    " [ 0  0  0]\n",
    " [17 18 19]]"
   ]
  },
  {
   "cell_type": "code",
   "execution_count": 31,
   "id": "1cdbef0e",
   "metadata": {},
   "outputs": [
    {
     "name": "stdout",
     "output_type": "stream",
     "text": [
      "(11, 12)\n",
      "[[ 0  0  0]\n",
      " [ 0  0  0]\n",
      " [17 18 19]]\n"
     ]
    }
   ],
   "source": [
    "myArray = np.array([[11,12,13], [14,15,16], [17,18,19]])\n",
    "sub = myArray[0][0] , myArray[0][1]\n",
    "print(sub)\n",
    "myArray[0,:] = 0\n",
    "myArray[1,:] = 0\n",
    "\n",
    "print(myArray)"
   ]
  },
  {
   "cell_type": "markdown",
   "id": "f6a56f87",
   "metadata": {},
   "source": [
    "2. Create an array that contains [0,1,2,3,4,5,6,7,8,9,10,11,12,13,14,15,16,17,18,19,20] and reverse the order."
   ]
  },
  {
   "cell_type": "code",
   "execution_count": 33,
   "id": "60a524c0",
   "metadata": {},
   "outputs": [
    {
     "name": "stdout",
     "output_type": "stream",
     "text": [
      "[ 0  1  2  3  4  5  6  7  8  9 10 11 12 13 14 15 16 17 18 19 20]\n",
      "[20 19 18 17 16 15 14 13 12 11 10  9  8  7  6  5  4  3  2  1  0]\n"
     ]
    }
   ],
   "source": [
    "long = np.array([0,1,2,3,4,5,6,7,8,9,10,11,12,13,14,15,16,17,18,19,20])\n",
    "print(long)\n",
    "long = long[::-1]\n",
    "print(long)"
   ]
  },
  {
   "cell_type": "markdown",
   "id": "d4e76d53",
   "metadata": {},
   "source": [
    "RESHAPING\n",
    "Use this array for the following practice:\n",
    "myArray = np.array([[11,12,13], [14,15,16]])\n",
    "Reshape the array to an array with 3 rows. Your results should look like this:\n",
    "[[11 12]\n",
    " [13 14]\n",
    " [15 16]]"
   ]
  },
  {
   "cell_type": "code",
   "execution_count": 39,
   "id": "b970a8d2",
   "metadata": {},
   "outputs": [
    {
     "name": "stdout",
     "output_type": "stream",
     "text": [
      "[[11 12]\n",
      " [13 14]\n",
      " [15 16]]\n"
     ]
    }
   ],
   "source": [
    "myArray = np.array([[11,12,13], [14,15,16]])\n",
    "print(np.reshape(myArray , ((3,2))))"
   ]
  },
  {
   "cell_type": "markdown",
   "id": "e188aa93",
   "metadata": {},
   "source": [
    "MATH\n",
    "Use this array for the following practice:\n",
    "myArray = np.arange(10)\n",
    "1. Find the square of every number in array\n",
    "2. Find the square root of every number in array\n",
    "3. Multiply the square of each number in array with its respective square root"
   ]
  },
  {
   "cell_type": "code",
   "execution_count": 42,
   "id": "83ca3b81",
   "metadata": {},
   "outputs": [
    {
     "name": "stdout",
     "output_type": "stream",
     "text": [
      "[ 0  1  4  9 16 25 36 49 64 81]\n",
      "[0.         1.         1.41421356 1.73205081 2.         2.23606798\n",
      " 2.44948974 2.64575131 2.82842712 3.        ]\n",
      "[  0.           1.           5.65685425  15.58845727  32.\n",
      "  55.90169944  88.18163074 129.64181424 181.01933598 243.        ]\n"
     ]
    }
   ],
   "source": [
    "myArray = np.arange(10)\n",
    "\n",
    "sq_arr = np.square(myArray)\n",
    "print(sq_arr)\n",
    "\n",
    "sqr_arr = np.sqrt(myArray)\n",
    "print(sqr_arr)\n",
    "\n",
    "final_arr = np.multiply(sq_arr , sqr_arr)\n",
    "print(final_arr)"
   ]
  },
  {
   "cell_type": "markdown",
   "id": "357e6020",
   "metadata": {},
   "source": [
    "ADDING ELEMENTS\n",
    "Use this array for the following practice:\n",
    "myArray = np.array([[11,12,13], [14,15,16], [17,18,19]])\n",
    "1. Add a new row of elements containing 20, 21 and 22\n",
    "2. Add a new column of elements containing 30, 40 and 50"
   ]
  },
  {
   "cell_type": "code",
   "execution_count": 55,
   "id": "29ed450a",
   "metadata": {},
   "outputs": [
    {
     "name": "stdout",
     "output_type": "stream",
     "text": [
      "[[11 12 13]\n",
      " [14 15 16]\n",
      " [17 18 19]\n",
      " [20 21 22]]\n"
     ]
    },
    {
     "ename": "ValueError",
     "evalue": "all the input arrays must have same number of dimensions, but the array at index 0 has 2 dimension(s) and the array at index 1 has 1 dimension(s)",
     "output_type": "error",
     "traceback": [
      "\u001b[1;31m---------------------------------------------------------------------------\u001b[0m",
      "\u001b[1;31mValueError\u001b[0m                                Traceback (most recent call last)",
      "Cell \u001b[1;32mIn[55], line 7\u001b[0m\n\u001b[0;32m      4\u001b[0m myArray\u001b[38;5;241m=\u001b[39mnp\u001b[38;5;241m.\u001b[39mvstack((myArray , new_r))\n\u001b[0;32m      5\u001b[0m \u001b[38;5;28mprint\u001b[39m(myArray)\n\u001b[1;32m----> 7\u001b[0m g \u001b[38;5;241m=\u001b[39m np\u001b[38;5;241m.\u001b[39mconcatenate([myArray , new_c])\n\u001b[0;32m      8\u001b[0m \u001b[38;5;28mprint\u001b[39m(g)\n",
      "File \u001b[1;32m<__array_function__ internals>:200\u001b[0m, in \u001b[0;36mconcatenate\u001b[1;34m(*args, **kwargs)\u001b[0m\n",
      "\u001b[1;31mValueError\u001b[0m: all the input arrays must have same number of dimensions, but the array at index 0 has 2 dimension(s) and the array at index 1 has 1 dimension(s)"
     ]
    }
   ],
   "source": [
    "myArray = np.array([[11,12,13], [14,15,16], [17,18,19]])\n",
    "new_r= [20,21,22]\n",
    "new_c=[30,40,50]\n",
    "myArray=np.vstack((myArray , new_r))\n",
    "print(myArray)\n",
    "\n",
    "g = np.concatenate([myArray , new_c])\n",
    "print(g)"
   ]
  },
  {
   "cell_type": "markdown",
   "id": "4fb37f6b",
   "metadata": {},
   "source": [
    "INSERTING ELEMENTS\n",
    "1. Add 1 column of 1 to this array: myArray = np.zeros((2,2))\n",
    "2. Add 2 rows of 2 to the answer from part 1\n",
    "3. Remove the last column\n",
    "4. Remove the last row"
   ]
  },
  {
   "cell_type": "code",
   "execution_count": 63,
   "id": "0caa8687",
   "metadata": {},
   "outputs": [
    {
     "name": "stdout",
     "output_type": "stream",
     "text": [
      "[[0.]\n",
      " [0.]\n",
      " [0.]\n",
      " [0.]\n",
      " [2.]]\n"
     ]
    }
   ],
   "source": [
    "myArray = np.zeros((2,2))\n",
    "col = [0,0],[0,0]\n",
    "row = [2,2]\n",
    "myArray = np.concatenate([myArray , col])\n",
    "i=0\n",
    "while i < 2:\n",
    "    myArray = np.vstack((myArray , row))\n",
    "    i+=1\n",
    "myArray = np.delete(myArray , -1 , -1)\n",
    "myArray = np.delete(myArray , -1 , 0)\n",
    "print(myArray)"
   ]
  },
  {
   "cell_type": "markdown",
   "id": "4103bb07",
   "metadata": {},
   "source": [
    "DELETING ELEMENTS\n",
    "Remove the elements from the middle column of this array:\n",
    "myArray = np.matrix([[1, 2, 3], [4, 5, 6], [9, 8, 7]])\n",
    "Your codes should look like this:\n",
    "[[1 3]\n",
    " [4 6]\n",
    " [9 7]]"
   ]
  },
  {
   "cell_type": "code",
   "execution_count": 64,
   "id": "91c82fc0",
   "metadata": {},
   "outputs": [],
   "source": [
    "myArray = np.matrix([[1, 2, 3], [4, 5, 6], [9, 8, 7]])\n",
    "result_1 = myArray[:, [0, 2]]"
   ]
  },
  {
   "cell_type": "markdown",
   "id": "d8c27398",
   "metadata": {},
   "source": [
    "# TEST EXERCISE\n",
    "Replace all odd numbers in the given array with -1\n",
    "Start with:\n",
    "exercise_1 = np.array([0, 1, 2, 3, 4, 5, 6, 7, 8, 9])\n",
    "Desired output:\n",
    "[ 0, -1, 2, -1, 4, -1, 6, -1, 8, -1]\n",
    "Convert a 1-D array into a 2-D array with 3 rows\n",
    "Start with:\n",
    "exercise_2 = np.array([0, 1, 2, 3, 4, 5, 6, 7, 8])\n",
    "Desired output:\n",
    "[[ 0, 1, 2]\n",
    "[3, 4, 5]\n",
    "[6, 7, 8]]\n",
    "Add 202 to all the values in given array\n",
    "Start with:\n",
    "exercise_3 = np.arange(4).reshape(2,-1)\n",
    "Desired output:\n",
    "[[202, 203]\n",
    "[204, 205]]\n",
    "Generate a 1-D array of 10 random integers. Each integer should be a number between 30 and 40 (inclusive)\n",
    "Sample of desired output:\n",
    "[36, 30, 36, 38, 31, 35, 36, 30, 32, 34]\n",
    "Find the positions of:\n",
    "elements in x where its value is more than its corresponding element in y, and\n",
    "elements in x where its value is equals to its corresponding element in y.\n",
    "Start with these:\n",
    "x = np.array([21, 64, 86, 22, 74, 55, 81, 79, 90, 89])\n",
    "y = np.array([21, 7, 3, 45, 10, 29, 55, 4, 37, 18])\n",
    "Desired output:\n",
    "(array([1, 2, 4, 5, 6, 7, 8, 9]),) and (array([0]),)\n",
    "Extract the first four columns of this 2-D array\n",
    "Start with this:\n",
    "exercise_6 = np.arange(100).reshape(5,-1)\n",
    "Desired output:\n",
    "[[ 0 1 2 3]\n",
    "[20 21 22 23]\n",
    "[40 41 42 43]\n",
    "[60 61 62 63]\n",
    "[80 81 82 83]]"
   ]
  },
  {
   "cell_type": "code",
   "execution_count": 66,
   "id": "12b1b61b",
   "metadata": {},
   "outputs": [],
   "source": [
    "exercise = np.array([0, 1, 2, 3, 4, 5, 6, 7, 8, 9])\n",
    "exercise[exercise % 2 == 1] = -1"
   ]
  },
  {
   "cell_type": "code",
   "execution_count": 67,
   "id": "56e376b0",
   "metadata": {},
   "outputs": [],
   "source": [
    "exercise_2 = np.array([0, 1, 2, 3, 4, 5, 6, 7, 8])\n",
    "result_2 = exercise_2.reshape(3, 3)"
   ]
  },
  {
   "cell_type": "code",
   "execution_count": 68,
   "id": "690aa00f",
   "metadata": {},
   "outputs": [],
   "source": [
    "exercise_3 = np.arange(4).reshape(2, -1) + 202"
   ]
  },
  {
   "cell_type": "code",
   "execution_count": 69,
   "id": "c8136709",
   "metadata": {},
   "outputs": [],
   "source": [
    "result_3 = np.random.randint(30, 41, 10)"
   ]
  },
  {
   "cell_type": "code",
   "execution_count": 70,
   "id": "366c3f47",
   "metadata": {},
   "outputs": [],
   "source": [
    "x = np.array([21, 64, 86, 22, 74, 55, 81, 79, 90, 89])\n",
    "y = np.array([21, 7, 3, 45, 10, 29, 55, 4, 37, 18])\n",
    "greater_positions = np.where(x > y)\n",
    "equal_positions = np.where(x == y)"
   ]
  },
  {
   "cell_type": "code",
   "execution_count": 71,
   "id": "c65c590e",
   "metadata": {},
   "outputs": [],
   "source": [
    "exercise_6 = np.arange(100).reshape(5, -1)\n",
    "result_6 = exercise_6[:, 0:4]"
   ]
  },
  {
   "cell_type": "code",
   "execution_count": null,
   "id": "16e78416",
   "metadata": {},
   "outputs": [],
   "source": []
  }
 ],
 "metadata": {
  "kernelspec": {
   "display_name": "Python 3 (ipykernel)",
   "language": "python",
   "name": "python3"
  },
  "language_info": {
   "codemirror_mode": {
    "name": "ipython",
    "version": 3
   },
   "file_extension": ".py",
   "mimetype": "text/x-python",
   "name": "python",
   "nbconvert_exporter": "python",
   "pygments_lexer": "ipython3",
   "version": "3.11.5"
  }
 },
 "nbformat": 4,
 "nbformat_minor": 5
}
