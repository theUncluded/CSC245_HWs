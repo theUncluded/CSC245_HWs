{
 "cells": [
  {
   "cell_type": "code",
   "execution_count": 3,
   "id": "21297a7a",
   "metadata": {},
   "outputs": [],
   "source": [
    "import numpy as np\n",
    "import matplotlib as pl\n",
    "import pandas as pd"
   ]
  },
  {
   "cell_type": "code",
   "execution_count": 4,
   "id": "988f3131",
   "metadata": {},
   "outputs": [],
   "source": [
    "#1. Create a rank 2 (2D) array that resembles the matrix below.\n",
    "#[[11 12 13 14]\n",
    "# [15 16 17 18]]"
   ]
  },
  {
   "cell_type": "code",
   "execution_count": 8,
   "id": "da102683",
   "metadata": {},
   "outputs": [],
   "source": [
    "two_d = np.array([[11 ,12 ,13 ,14], [15 ,16 ,17 ,18]])"
   ]
  },
  {
   "cell_type": "code",
   "execution_count": 9,
   "id": "0bd1d7cf",
   "metadata": {},
   "outputs": [
    {
     "name": "stdout",
     "output_type": "stream",
     "text": [
      "[[11 12 13 14]\n",
      " [15 16 17 18]]\n"
     ]
    }
   ],
   "source": [
    "print(two_d)"
   ]
  },
  {
   "cell_type": "markdown",
   "id": "6bba8106",
   "metadata": {},
   "source": [
    "# Use the appropriate functions to solve the following questions\n",
    "1. Create an array with 4 rows and 3 columns of zeros. Your results should look as below:\n",
    "[[0. 0. 0.]\n",
    " [0. 0. 0.]\n",
    " [0. 0. 0.]\n",
    " [0. 0. 0.]]"
   ]
  },
  {
   "cell_type": "code",
   "execution_count": 14,
   "id": "06789eeb",
   "metadata": {},
   "outputs": [],
   "source": [
    "col_row = np.zeros((4,3))"
   ]
  },
  {
   "cell_type": "code",
   "execution_count": 15,
   "id": "652b9e21",
   "metadata": {},
   "outputs": [
    {
     "name": "stdout",
     "output_type": "stream",
     "text": [
      "[[0. 0. 0.]\n",
      " [0. 0. 0.]\n",
      " [0. 0. 0.]\n",
      " [0. 0. 0.]]\n"
     ]
    }
   ],
   "source": [
    "print(col_row)"
   ]
  },
  {
   "cell_type": "markdown",
   "id": "8f92398e",
   "metadata": {},
   "source": [
    "2.Create an array of ones that has 3 rows and 4 columns. Your results should look as below:\n",
    "[[1. 1. 1. 1.]\n",
    "[1. 1. 1. 1.]\n",
    "[1. 1. 1. 1.]]"
   ]
  },
  {
   "cell_type": "code",
   "execution_count": 16,
   "id": "f7fe2940",
   "metadata": {},
   "outputs": [
    {
     "name": "stdout",
     "output_type": "stream",
     "text": [
      "[[1. 1. 1. 1.]\n",
      " [1. 1. 1. 1.]\n",
      " [1. 1. 1. 1.]]\n"
     ]
    }
   ],
   "source": [
    "three_four = np.ones((3,4))\n",
    "print(three_four)"
   ]
  },
  {
   "cell_type": "markdown",
   "id": "7bab076c",
   "metadata": {},
   "source": [
    "3. Create an array containing integers 4 to 13 inclusive. Your results should look as below:\n",
    "[4 5 6 7 8 9 10 11 12 13]"
   ]
  },
  {
   "cell_type": "code",
   "execution_count": null,
   "id": "fa683ee7",
   "metadata": {},
   "outputs": [],
   "source": [
    "np.linspace(4,13,)"
   ]
  }
 ],
 "metadata": {
  "kernelspec": {
   "display_name": "Python 3 (ipykernel)",
   "language": "python",
   "name": "python3"
  },
  "language_info": {
   "codemirror_mode": {
    "name": "ipython",
    "version": 3
   },
   "file_extension": ".py",
   "mimetype": "text/x-python",
   "name": "python",
   "nbconvert_exporter": "python",
   "pygments_lexer": "ipython3",
   "version": "3.11.5"
  }
 },
 "nbformat": 4,
 "nbformat_minor": 5
}
